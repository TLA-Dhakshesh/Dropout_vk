{
 "cells": [
  {
   "cell_type": "code",
   "execution_count": 43,
   "metadata": {},
   "outputs": [],
   "source": [
    "import pandas as pd\n",
    "import numpy as np\n",
    "import matplotlib.pyplot as plt"
   ]
  },
  {
   "cell_type": "code",
   "execution_count": 44,
   "metadata": {},
   "outputs": [],
   "source": [
    "data = pd.read_csv('drop.csv')"
   ]
  },
  {
   "cell_type": "code",
   "execution_count": 45,
   "metadata": {},
   "outputs": [
    {
     "data": {
      "text/html": [
       "<div>\n",
       "<style scoped>\n",
       "    .dataframe tbody tr th:only-of-type {\n",
       "        vertical-align: middle;\n",
       "    }\n",
       "\n",
       "    .dataframe tbody tr th {\n",
       "        vertical-align: top;\n",
       "    }\n",
       "\n",
       "    .dataframe thead th {\n",
       "        text-align: right;\n",
       "    }\n",
       "</style>\n",
       "<table border=\"1\" class=\"dataframe\">\n",
       "  <thead>\n",
       "    <tr style=\"text-align: right;\">\n",
       "      <th></th>\n",
       "      <th>access</th>\n",
       "      <th>tests</th>\n",
       "      <th>tests_grade</th>\n",
       "      <th>exam</th>\n",
       "      <th>project</th>\n",
       "      <th>project_grade</th>\n",
       "      <th>assignments</th>\n",
       "      <th>result_points</th>\n",
       "      <th>result_grade</th>\n",
       "      <th>graduate</th>\n",
       "      <th>year</th>\n",
       "      <th>acad_year</th>\n",
       "    </tr>\n",
       "  </thead>\n",
       "  <tbody>\n",
       "    <tr>\n",
       "      <th>0</th>\n",
       "      <td>1256</td>\n",
       "      <td>57.00</td>\n",
       "      <td>A</td>\n",
       "      <td>19</td>\n",
       "      <td>91.54</td>\n",
       "      <td>A</td>\n",
       "      <td>40.0</td>\n",
       "      <td>189.92</td>\n",
       "      <td>A</td>\n",
       "      <td>1</td>\n",
       "      <td>2019</td>\n",
       "      <td>2019/2020</td>\n",
       "    </tr>\n",
       "    <tr>\n",
       "      <th>1</th>\n",
       "      <td>985</td>\n",
       "      <td>42.87</td>\n",
       "      <td>B</td>\n",
       "      <td>19</td>\n",
       "      <td>75.96</td>\n",
       "      <td>A</td>\n",
       "      <td>13.7</td>\n",
       "      <td>189.43</td>\n",
       "      <td>A</td>\n",
       "      <td>1</td>\n",
       "      <td>2017</td>\n",
       "      <td>2017/2018</td>\n",
       "    </tr>\n",
       "    <tr>\n",
       "      <th>2</th>\n",
       "      <td>1455</td>\n",
       "      <td>54.50</td>\n",
       "      <td>A</td>\n",
       "      <td>16</td>\n",
       "      <td>96.79</td>\n",
       "      <td>A</td>\n",
       "      <td>40.0</td>\n",
       "      <td>188.91</td>\n",
       "      <td>A</td>\n",
       "      <td>1</td>\n",
       "      <td>2019</td>\n",
       "      <td>2019/2020</td>\n",
       "    </tr>\n",
       "    <tr>\n",
       "      <th>3</th>\n",
       "      <td>998</td>\n",
       "      <td>54.50</td>\n",
       "      <td>A</td>\n",
       "      <td>16</td>\n",
       "      <td>93.36</td>\n",
       "      <td>A</td>\n",
       "      <td>40.0</td>\n",
       "      <td>186.85</td>\n",
       "      <td>A</td>\n",
       "      <td>1</td>\n",
       "      <td>2019</td>\n",
       "      <td>2019/2020</td>\n",
       "    </tr>\n",
       "    <tr>\n",
       "      <th>4</th>\n",
       "      <td>1347</td>\n",
       "      <td>55.00</td>\n",
       "      <td>A</td>\n",
       "      <td>16</td>\n",
       "      <td>92.86</td>\n",
       "      <td>A</td>\n",
       "      <td>39.0</td>\n",
       "      <td>186.38</td>\n",
       "      <td>A</td>\n",
       "      <td>1</td>\n",
       "      <td>2019</td>\n",
       "      <td>2019/2020</td>\n",
       "    </tr>\n",
       "    <tr>\n",
       "      <th>...</th>\n",
       "      <td>...</td>\n",
       "      <td>...</td>\n",
       "      <td>...</td>\n",
       "      <td>...</td>\n",
       "      <td>...</td>\n",
       "      <td>...</td>\n",
       "      <td>...</td>\n",
       "      <td>...</td>\n",
       "      <td>...</td>\n",
       "      <td>...</td>\n",
       "      <td>...</td>\n",
       "      <td>...</td>\n",
       "    </tr>\n",
       "    <tr>\n",
       "      <th>256</th>\n",
       "      <td>340</td>\n",
       "      <td>0.00</td>\n",
       "      <td>FX</td>\n",
       "      <td>0</td>\n",
       "      <td>0.00</td>\n",
       "      <td>FX</td>\n",
       "      <td>0.0</td>\n",
       "      <td>0.00</td>\n",
       "      <td>FX</td>\n",
       "      <td>0</td>\n",
       "      <td>2016</td>\n",
       "      <td>2016/2017</td>\n",
       "    </tr>\n",
       "    <tr>\n",
       "      <th>257</th>\n",
       "      <td>429</td>\n",
       "      <td>0.00</td>\n",
       "      <td>FX</td>\n",
       "      <td>0</td>\n",
       "      <td>0.00</td>\n",
       "      <td>FX</td>\n",
       "      <td>0.0</td>\n",
       "      <td>0.00</td>\n",
       "      <td>FX</td>\n",
       "      <td>0</td>\n",
       "      <td>2016</td>\n",
       "      <td>2016/2017</td>\n",
       "    </tr>\n",
       "    <tr>\n",
       "      <th>258</th>\n",
       "      <td>26</td>\n",
       "      <td>0.00</td>\n",
       "      <td>FX</td>\n",
       "      <td>0</td>\n",
       "      <td>0.00</td>\n",
       "      <td>FX</td>\n",
       "      <td>0.0</td>\n",
       "      <td>0.00</td>\n",
       "      <td>FX</td>\n",
       "      <td>0</td>\n",
       "      <td>2018</td>\n",
       "      <td>2018/2019</td>\n",
       "    </tr>\n",
       "    <tr>\n",
       "      <th>259</th>\n",
       "      <td>126</td>\n",
       "      <td>0.00</td>\n",
       "      <td>FX</td>\n",
       "      <td>0</td>\n",
       "      <td>0.00</td>\n",
       "      <td>FX</td>\n",
       "      <td>0.0</td>\n",
       "      <td>0.00</td>\n",
       "      <td>FX</td>\n",
       "      <td>0</td>\n",
       "      <td>2018</td>\n",
       "      <td>2018/2019</td>\n",
       "    </tr>\n",
       "    <tr>\n",
       "      <th>260</th>\n",
       "      <td>28</td>\n",
       "      <td>0.00</td>\n",
       "      <td>0</td>\n",
       "      <td>0</td>\n",
       "      <td>0.00</td>\n",
       "      <td>0</td>\n",
       "      <td>0.0</td>\n",
       "      <td>0.00</td>\n",
       "      <td>FX</td>\n",
       "      <td>0</td>\n",
       "      <td>2019</td>\n",
       "      <td>2019/2020</td>\n",
       "    </tr>\n",
       "  </tbody>\n",
       "</table>\n",
       "<p>261 rows × 12 columns</p>\n",
       "</div>"
      ],
      "text/plain": [
       "     access  tests tests_grade  exam  project project_grade  assignments   \n",
       "0      1256  57.00           A    19    91.54             A         40.0  \\\n",
       "1       985  42.87           B    19    75.96             A         13.7   \n",
       "2      1455  54.50           A    16    96.79             A         40.0   \n",
       "3       998  54.50           A    16    93.36             A         40.0   \n",
       "4      1347  55.00           A    16    92.86             A         39.0   \n",
       "..      ...    ...         ...   ...      ...           ...          ...   \n",
       "256     340   0.00          FX     0     0.00            FX          0.0   \n",
       "257     429   0.00          FX     0     0.00            FX          0.0   \n",
       "258      26   0.00          FX     0     0.00            FX          0.0   \n",
       "259     126   0.00          FX     0     0.00            FX          0.0   \n",
       "260      28   0.00           0     0     0.00             0          0.0   \n",
       "\n",
       "     result_points result_grade  graduate  year  acad_year  \n",
       "0           189.92            A         1  2019  2019/2020  \n",
       "1           189.43            A         1  2017  2017/2018  \n",
       "2           188.91            A         1  2019  2019/2020  \n",
       "3           186.85            A         1  2019  2019/2020  \n",
       "4           186.38            A         1  2019  2019/2020  \n",
       "..             ...          ...       ...   ...        ...  \n",
       "256           0.00           FX         0  2016  2016/2017  \n",
       "257           0.00           FX         0  2016  2016/2017  \n",
       "258           0.00           FX         0  2018  2018/2019  \n",
       "259           0.00           FX         0  2018  2018/2019  \n",
       "260           0.00           FX         0  2019  2019/2020  \n",
       "\n",
       "[261 rows x 12 columns]"
      ]
     },
     "execution_count": 45,
     "metadata": {},
     "output_type": "execute_result"
    }
   ],
   "source": [
    "data"
   ]
  },
  {
   "cell_type": "code",
   "execution_count": 46,
   "metadata": {},
   "outputs": [
    {
     "data": {
      "text/plain": [
       "access           0\n",
       "tests            0\n",
       "tests_grade      0\n",
       "exam             0\n",
       "project          0\n",
       "project_grade    0\n",
       "assignments      0\n",
       "result_points    0\n",
       "result_grade     0\n",
       "graduate         0\n",
       "year             0\n",
       "acad_year        0\n",
       "dtype: int64"
      ]
     },
     "execution_count": 46,
     "metadata": {},
     "output_type": "execute_result"
    }
   ],
   "source": [
    "data.isnull().sum()"
   ]
  },
  {
   "cell_type": "code",
   "execution_count": 47,
   "metadata": {},
   "outputs": [
    {
     "name": "stdout",
     "output_type": "stream",
     "text": [
      "<class 'pandas.core.frame.DataFrame'>\n",
      "RangeIndex: 261 entries, 0 to 260\n",
      "Data columns (total 12 columns):\n",
      " #   Column         Non-Null Count  Dtype  \n",
      "---  ------         --------------  -----  \n",
      " 0   access         261 non-null    int64  \n",
      " 1   tests          261 non-null    float64\n",
      " 2   tests_grade    261 non-null    object \n",
      " 3   exam           261 non-null    int64  \n",
      " 4   project        261 non-null    float64\n",
      " 5   project_grade  261 non-null    object \n",
      " 6   assignments    261 non-null    float64\n",
      " 7   result_points  261 non-null    float64\n",
      " 8   result_grade   261 non-null    object \n",
      " 9   graduate       261 non-null    int64  \n",
      " 10  year           261 non-null    int64  \n",
      " 11  acad_year      261 non-null    object \n",
      "dtypes: float64(4), int64(4), object(4)\n",
      "memory usage: 24.6+ KB\n"
     ]
    }
   ],
   "source": [
    "data.info()"
   ]
  },
  {
   "cell_type": "code",
   "execution_count": 48,
   "metadata": {},
   "outputs": [
    {
     "data": {
      "text/plain": [
       "array(['A', 'B', 'C', 'E', 'D', 'FX', '0'], dtype=object)"
      ]
     },
     "execution_count": 48,
     "metadata": {},
     "output_type": "execute_result"
    }
   ],
   "source": [
    "data['tests_grade'].unique()"
   ]
  },
  {
   "cell_type": "code",
   "execution_count": 49,
   "metadata": {},
   "outputs": [
    {
     "data": {
      "text/plain": [
       "array(['A', 'C', 'D', 'FX', 'B', 'E', '0'], dtype=object)"
      ]
     },
     "execution_count": 49,
     "metadata": {},
     "output_type": "execute_result"
    }
   ],
   "source": [
    "data['project_grade'].unique()"
   ]
  },
  {
   "cell_type": "code",
   "execution_count": 50,
   "metadata": {},
   "outputs": [
    {
     "data": {
      "text/plain": [
       "array(['A', 'B', 'C', 'D', 'E', 'FX'], dtype=object)"
      ]
     },
     "execution_count": 50,
     "metadata": {},
     "output_type": "execute_result"
    }
   ],
   "source": [
    "data['result_grade'].unique()"
   ]
  },
  {
   "cell_type": "code",
   "execution_count": 51,
   "metadata": {},
   "outputs": [
    {
     "data": {
      "text/plain": [
       "array(['2019/2020', '2017/2018', '2018/2019', '2016/2017'], dtype=object)"
      ]
     },
     "execution_count": 51,
     "metadata": {},
     "output_type": "execute_result"
    }
   ],
   "source": [
    "data['acad_year'].unique()"
   ]
  },
  {
   "cell_type": "code",
   "execution_count": 52,
   "metadata": {},
   "outputs": [],
   "source": [
    "data.tests_grade.replace(('A', 'B', 'C', 'E', 'D', 'FX', '0'),(1,2,3,4,5,6,7),inplace=True)\n",
    "data.project_grade.replace(('A', 'B', 'C', 'E', 'D', 'FX', '0'),(1,2,3,4,5,6,7),inplace=True)\n",
    "data.result_grade.replace(('A', 'B', 'C', 'E', 'D', 'FX'),(1,2,3,4,5,6),inplace=True)\n",
    "data.acad_year.replace(('2019/2020', '2017/2018', '2018/2019', '2016/2017'),(1,2,3,4),inplace=True)"
   ]
  },
  {
   "cell_type": "code",
   "execution_count": 53,
   "metadata": {},
   "outputs": [
    {
     "name": "stdout",
     "output_type": "stream",
     "text": [
      "<class 'pandas.core.frame.DataFrame'>\n",
      "RangeIndex: 261 entries, 0 to 260\n",
      "Data columns (total 12 columns):\n",
      " #   Column         Non-Null Count  Dtype  \n",
      "---  ------         --------------  -----  \n",
      " 0   access         261 non-null    int64  \n",
      " 1   tests          261 non-null    float64\n",
      " 2   tests_grade    261 non-null    int64  \n",
      " 3   exam           261 non-null    int64  \n",
      " 4   project        261 non-null    float64\n",
      " 5   project_grade  261 non-null    int64  \n",
      " 6   assignments    261 non-null    float64\n",
      " 7   result_points  261 non-null    float64\n",
      " 8   result_grade   261 non-null    int64  \n",
      " 9   graduate       261 non-null    int64  \n",
      " 10  year           261 non-null    int64  \n",
      " 11  acad_year      261 non-null    int64  \n",
      "dtypes: float64(4), int64(8)\n",
      "memory usage: 24.6 KB\n"
     ]
    }
   ],
   "source": [
    "data.info()"
   ]
  },
  {
   "cell_type": "code",
   "execution_count": 54,
   "metadata": {},
   "outputs": [],
   "source": [
    "x = data.drop(['access','graduate'], axis = 1)\n",
    "y = data['graduate']"
   ]
  },
  {
   "cell_type": "code",
   "execution_count": 55,
   "metadata": {},
   "outputs": [
    {
     "data": {
      "image/png": "[encoded data removed]",
      "text/plain": [
       "<Figure size 640x480 with 1 Axes>"
      ]
     },
     "metadata": {},
     "output_type": "display_data"
    }
   ],
   "source": [
    "#relation between test and test_grade\n",
    "test = data['tests']\n",
    "t_grade = data['tests_grade']\n",
    "plt.bar(test, t_grade)\n",
    "plt.xlabel('Tests')\n",
    "plt.ylabel('Test Grade')\n",
    "plt.title('Simple representation of test and it grade')\n",
    "plt.show()"
   ]
  },
  {
   "cell_type": "code",
   "execution_count": 56,
   "metadata": {},
   "outputs": [
    {
     "data": {
      "image/png": "[encoded data removed]",
      "text/plain": [
       "<Figure size 640x480 with 1 Axes>"
      ]
     },
     "metadata": {},
     "output_type": "display_data"
    }
   ],
   "source": [
    "#relation between progect and project_grade\n",
    "test = data['project']\n",
    "t_grade = data['project_grade']\n",
    "plt.bar(test, t_grade)\n",
    "plt.xlabel('Project')\n",
    "plt.ylabel('project Grade')\n",
    "plt.title('Simple representation of Project and it grade')\n",
    "plt.show()"
   ]
  },
  {
   "cell_type": "code",
   "execution_count": 57,
   "metadata": {},
   "outputs": [
    {
     "data": {
      "image/png": "[encoded data removed]",
      "text/plain": [
       "<Figure size 640x480 with 1 Axes>"
      ]
     },
     "metadata": {},
     "output_type": "display_data"
    }
   ],
   "source": [
    "#relation between test and test_grade\n",
    "test = data['result_points']\n",
    "t_grade = data['result_grade']\n",
    "plt.bar(test, t_grade)\n",
    "plt.xlabel('Result point')\n",
    "plt.ylabel('Result Grade')\n",
    "plt.title('Simple representation of Result point and it grade')\n",
    "plt.show()"
   ]
  },
  {
   "cell_type": "code",
   "execution_count": 58,
   "metadata": {},
   "outputs": [],
   "source": [
    "from sklearn.model_selection import train_test_split\n",
    "x_train, x_test, y_train, y_test = train_test_split(x, y, test_size=0.2, random_state=42)"
   ]
  },
  {
   "cell_type": "code",
   "execution_count": 62,
   "metadata": {},
   "outputs": [],
   "source": [
    "from sklearn.preprocessing import MinMaxScaler\n",
    "scaler = MinMaxScaler()\n",
    "X_train = scaler.fit_transform(x_train)\n",
    "X_test = scaler.transform(x_test)"
   ]
  },
  {
   "cell_type": "code",
   "execution_count": 69,
   "metadata": {},
   "outputs": [],
   "source": [
    "from sklearn.linear_model import LogisticRegression\n",
    "from sklearn.naive_bayes import GaussianNB\n",
    "from sklearn.svm import SVC\n",
    "from sklearn.neighbors import KNeighborsClassifier\n",
    "from sklearn.tree import DecisionTreeClassifier, ExtraTreeClassifier\n",
    "from sklearn.ensemble import RandomForestClassifier, BaggingClassifier, AdaBoostClassifier, GradientBoostingClassifier"
   ]
  },
  {
   "cell_type": "code",
   "execution_count": 70,
   "metadata": {},
   "outputs": [
    {
     "name": "stdout",
     "output_type": "stream",
     "text": [
      "Support Vector Machine:\n",
      "Accuracy: 0.8491\n",
      "K-Nearest Neighbors:\n",
      "Accuracy: 0.9811\n",
      "Extra Trees:\n",
      "Accuracy: 1.0000\n"
     ]
    }
   ],
   "source": [
    "# create instances of all models\n",
    "models = {\n",
    "    'Support Vector Machine': SVC(),\n",
    "    'K-Nearest Neighbors': KNeighborsClassifier(),\n",
    "    'Extra Trees': ExtraTreeClassifier(),\n",
    "} \n",
    "\n",
    "from sklearn.metrics import accuracy_score\n",
    "for name, model in models.items():\n",
    "    model.fit(x_train, y_train)\n",
    "    y_pred = model.predict(x_test)\n",
    "    acc = accuracy_score(y_test, y_pred)\n",
    "    print(f'{name}:\\nAccuracy: {acc:.4f}')"
   ]
  },
  {
   "cell_type": "code",
   "execution_count": 73,
   "metadata": {},
   "outputs": [
    {
     "name": "stdout",
     "output_type": "stream",
     "text": [
      "Accuracy: 0.9811320754716981\n"
     ]
    }
   ],
   "source": [
    "from sklearn.neighbors import KNeighborsClassifier\n",
    "model = KNeighborsClassifier()\n",
    "model.fit(x_train, y_train)\n",
    "y_pred = model.predict(x_test)\n",
    "\n",
    "accuracy = accuracy_score(y_test, y_pred)\n",
    "print(\"Accuracy:\", accuracy)\n"
   ]
  },
  {
   "cell_type": "code",
   "execution_count": null,
   "metadata": {},
   "outputs": [],
   "source": []
  }
 ],
 "metadata": {
  "kernelspec": {
   "display_name": "techgig",
   "language": "python",
   "name": "python3"
  },
  "language_info": {
   "codemirror_mode": {
    "name": "ipython",
    "version": 3
   },
   "file_extension": ".py",
   "mimetype": "text/x-python",
   "name": "python",
   "nbconvert_exporter": "python",
   "pygments_lexer": "ipython3",
   "version": "3.8.16"
  },
  "orig_nbformat": 4
 },
 "nbformat": 4,
 "nbformat_minor": 2
}
